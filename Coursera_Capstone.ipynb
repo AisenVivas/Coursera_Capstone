{
 "metadata": {
  "language_info": {
   "codemirror_mode": {
    "name": "ipython",
    "version": 3
   },
   "file_extension": ".py",
   "mimetype": "text/x-python",
   "name": "python",
   "nbconvert_exporter": "python",
   "pygments_lexer": "ipython3",
   "version": "3.7.10"
  },
  "orig_nbformat": 2,
  "kernelspec": {
   "name": "python3710jvsc74a57bd0b8db45bea669e5cee187f3005995ce73d95ceecdc3bb83b7a6a88ee630403933",
   "display_name": "Python 3.7.10 64-bit (conda)"
  },
  "metadata": {
   "interpreter": {
    "hash": "f4c9e208bfcf04a8368de4dc4aecc2ff60d973e9d74dddb76c89985e293ec30f"
   }
  }
 },
 "nbformat": 4,
 "nbformat_minor": 2,
 "cells": [
  {
   "source": [
    "# First Notebook on github"
   ],
   "cell_type": "markdown",
   "metadata": {}
  },
  {
   "source": [
    "## This notebook is for the Coursera DataScience course Capstone project"
   ],
   "cell_type": "markdown",
   "metadata": {}
  },
  {
   "cell_type": "code",
   "execution_count": 2,
   "metadata": {},
   "outputs": [],
   "source": [
    "import pandas as pd"
   ]
  },
  {
   "cell_type": "code",
   "execution_count": 6,
   "metadata": {},
   "outputs": [],
   "source": [
    "df = pd.DataFrame(['cars', ' blue'])"
   ]
  }
 ]
}